{
 "cells": [
  {
   "cell_type": "code",
   "execution_count": null,
   "id": "cd344b6d",
   "metadata": {},
   "outputs": [],
   "source": [
    "from kafka import KafkaConsumer\n",
    "from time import sleep\n",
    "from json import dumps,loads\n",
    "import json\n",
    "from s3fs import S3FileSystem"
   ]
  },
  {
   "cell_type": "code",
   "execution_count": null,
   "id": "2ad0a40e",
   "metadata": {},
   "outputs": [],
   "source": [
    "\n",
    "consumer = KafkaConsumer(\n",
    "    'test',\n",
    "     bootstrap_servers=['54.160.243.136:9092'], #add your IP here\n",
    "    value_deserializer=lambda x: loads(x.decode('utf-8')))"
   ]
  },
  {
   "cell_type": "code",
   "execution_count": null,
   "id": "f31a5d82",
   "metadata": {},
   "outputs": [],
   "source": [
    "for c in consumer:\n",
    "    print(c.value)"
   ]
  },
  {
   "cell_type": "code",
   "execution_count": null,
   "id": "dc3dd05d",
   "metadata": {},
   "outputs": [],
   "source": [
    "s3 = S3FileSystem()"
   ]
  },
  {
   "cell_type": "code",
   "execution_count": null,
   "id": "d187d3a1",
   "metadata": {},
   "outputs": [],
   "source": [
    "for count, i in enumerate(consumer):\n",
    "    with s3.open(\"s3://kafka-stock-marketproject-json-bucket/stock_market_{}.json\".format(count), 'w') as file:\n",
    "        json.dump(i.value, file)    "
   ]
  },
  {
   "cell_type": "code",
   "execution_count": null,
   "id": "32b7b87d",
   "metadata": {},
   "outputs": [],
   "source": [
    "import s3fs\n",
    "import json\n",
    "\n",
    "# Create the S3 filesystem object with region and credentials\n",
    "s3 = s3fs.S3FileSystem(\n",
    "    key='**',\n",
    "    secret='**',\n",
    "    client_kwargs={'region_name': 'us-east-1'}  # Replace with your S3 bucket's region\n",
    ")\n",
    "\n",
    "# Loop to write messages from Kafka consumer to S3\n",
    "for count, i in enumerate(consumer):\n",
    "    file_path = f\"s3://kafka-stock-marketproject-json-bucket/stock_market_{count}.json\"\n",
    "    with s3.open(file_path, 'w') as file:\n",
    "        json.dump(i.value, file)\n"
   ]
  },
  {
   "cell_type": "code",
   "execution_count": null,
   "id": "0ab3b516",
   "metadata": {},
   "outputs": [],
   "source": [
    "from kafka import KafkaConsumer\n",
    "import s3fs\n",
    "import json\n",
    "\n",
    "# Kafka consumer setup\n",
    "consumer = KafkaConsumer(\n",
    "    'test2',\n",
    "    bootstrap_servers=['54.160.243.136:9092'],\n",
    "    value_deserializer=lambda x: json.loads(x.decode('utf-8')) if x else None,  # Handle empty messages\n",
    ")\n",
    "\n",
    "# S3 setup\n",
    "s3 = s3fs.S3FileSystem(\n",
    "    key='**',\n",
    "    secret='**',\n",
    "    client_kwargs={'region_name': 'us-east-1'}\n",
    ")\n",
    "\n",
    "# Loop to write messages to S3\n",
    "for count, record in enumerate(consumer):\n",
    "    try:\n",
    "        if record.value:  # Ensure the message has a value\n",
    "            file_path = f\"s3://kafka-stock-marketproject-json-bucket/stock_market_{count}.json\"\n",
    "            with s3.open(file_path, 'w') as file:\n",
    "                json.dump(record.value, file)  # Write valid JSON to S3\n",
    "            print(f\"Message {count} written to {file_path}\")\n",
    "        else:\n",
    "            print(f\"Skipping empty message at count {count}\")\n",
    "    except json.JSONDecodeError as e:\n",
    "        print(f\"JSON decode error at message {count}: {e}\")\n",
    "    except Exception as e:\n",
    "        print(f\"Error processing message {count}: {e}\")\n"
   ]
  },
  {
   "cell_type": "code",
   "execution_count": null,
   "id": "66f406b0",
   "metadata": {},
   "outputs": [],
   "source": []
  }
 ],
 "metadata": {
  "kernelspec": {
   "display_name": "Python 3 (ipykernel)",
   "language": "python",
   "name": "python3"
  },
  "language_info": {
   "codemirror_mode": {
    "name": "ipython",
    "version": 3
   },
   "file_extension": ".py",
   "mimetype": "text/x-python",
   "name": "python",
   "nbconvert_exporter": "python",
   "pygments_lexer": "ipython3",
   "version": "3.11.3"
  }
 },
 "nbformat": 4,
 "nbformat_minor": 5
}
